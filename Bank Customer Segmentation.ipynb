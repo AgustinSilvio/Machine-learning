{
 "cells": [
  {
   "cell_type": "markdown",
   "id": "53e83811",
   "metadata": {},
   "source": [
    "# ***AUTHOR: Agustín Rojas***\n",
    " agustinsilviorojas@outlook.com.ar\n",
    "\n",
    "\n",
    "**Social media:**\n",
    "\n",
    "![image.png](data:image/png;base64,iVBORw0KGgoAAAANSUhEUgAAAB4AAAAdCAMAAACKeiw+AAAAAXNSR0IArs4c6QAAAARnQU1BAACxjwv8YQUAAAFuUExURf3+/4u34ix7yzB+yzF+zMvf8gJhwABgvwVjwbrU7gJhvwdkwQpmwgRiwAllwr3W7wBfvw9pwxlvxgZjwQtmwgJgv02Q08LZ8Nbl9YOy4AxnwwNhwCx8y+/1+////22k2gBdvwBev12a16XG6AFgwAhkwTWBzfn7/nap3QBdvglmwmef2ePu+Ovy+pvA5hNrxAhlwhpwxiN2yABavQBZvQpnwhFrxGuj2nOn3HKn3C17ygRhwGGd2HOo3B5zx1CS03+v34a04WCc1yJ1yANiwBxyxvz9/mGc1wBYvRhuxWOe2KfI6eHs91aV1RtxxlyZ1hduxdjn9fv8/vH2/DeCzQFfv/P4/Pv9/pvB5gNfv4i14h1xxjaBzdfm9dLj9LDN6wBcvgBVu3Gn3BlwxliX1e70+wJiwGOd2Bhvxeny+XWp3ABbvgZkwRNsxIWz4Y244wVfvxFqxHir3T+HzwViwAVhwISy4Qtnwoq34gAAAN7JZ5kAAAB6dFJOU/////////////////////////////////////////////////////////////////////////////////////////////////////////////////////////////////////////////////////////////////8A6D/oJgAAAAlwSFlzAAAXEQAAFxEByibzPwAAAVJJREFUOE99U7FugzAQzQASekvEXjGz0MELS4d+QMYIdWpkgZQpiqwufH7euzMkaUnvsI+753eHz2bXXEPxQsK12ZVAhWpTgHK3d2xzRdwLThVSkvmt1d6T/5SHOeEJ4VPB2CgaSh8ZYBINLuXiDMdJ8IkllECza4arY2Y/QKb88pIwpkP3/hg3XZLTphCt6rMarCKRqAy4D00MLjC5bdv2b0g9bcD0OU/BcnltjP5p44FmOsnppnttjIPiDmtQhoJt8NpIDqdvR2z+WveN8MBu5lRYFjVbtVd2LfYpxtjTDiPhv+wesCZ3bD1hY3f0P+JF7J5RwQP3tsWODpPttwWoHV7YlvwVOyfP7LX2P2y6zTlelKRl7bP8O7ueKUegNZNQyGfP803lefJEUcvqKN0nLphhJaqpaqTdBDe5LYzyeCi6qFzBd5tYW//YcUMYDNfmBsjyiwsq+7iKAAAAAElFTkSuQmCC)[LinkedIn](https://www.linkedin.com/in/agust%C3%ADnsilviorojas/)"
   ]
  },
  {
   "cell_type": "markdown",
   "id": "53fb0c58",
   "metadata": {},
   "source": [
    "# Index\n",
    "\n",
    "- [Import libraries and file](#import-libraries-and-file)\n",
    "- [EDA](#eda)\n",
    "  - [Analysis of averages](#analysis-of-averages)\n",
    "  - [Out outliers and duplicated values detection and treatment.](#out-outliers-and-duplicated-values-detection-and-treatment)\n",
    "- [Analysis of the Correlation Matrix.](#analysis-of-the-correlation-matrix)\n",
    "- [STANDARIZATION OF DATA](#standarization-of-data)\n",
    "- [APPLICATION OF THE K-MEANS ALGORITHM](#application-of-the-k-means-algorithm)\n",
    "  - [VISUALIZATION OF THE COORDINATES OF THE CENTROIDS OF THE CLUSTERS IN A DATAFRAME](#visualization-of-the-coordinates-of-the-centroids-of-the-clusters-in-a-dataframe)\n",
    "  - [Segments insights](#segments-insights)\n",
    "  - [Predict](#predict)\n",
    "  - [PCA (Dimensionality Reduction)](#pca-dimensionality-reduction)\n",
    "  - [Scatter Plot of Clusters in Principal Component Space](#scatter-plot-of-clusters-in-principal-component-space)\n",
    "- [Conclusion](#conclusion)"
   ]
  },
  {
   "cell_type": "markdown",
   "id": "a2f234ac",
   "metadata": {},
   "source": [
    "# Import libraries and file"
   ]
  },
  {
   "cell_type": "code",
   "execution_count": 1,
   "id": "0764ee54",
   "metadata": {},
   "outputs": [],
   "source": [
    "\n",
    "# Import libraries\n",
    "import pandas as pd\n",
    "import numpy as np\n",
    "import seaborn as sns\n",
    "import matplotlib.pyplot as plt"
   ]
  },
  {
   "cell_type": "code",
   "execution_count": 2,
   "id": "4ee8f3f5",
   "metadata": {},
   "outputs": [
    {
     "data": {
      "text/html": [
       "<div>\n",
       "<style scoped>\n",
       "    .dataframe tbody tr th:only-of-type {\n",
       "        vertical-align: middle;\n",
       "    }\n",
       "\n",
       "    .dataframe tbody tr th {\n",
       "        vertical-align: top;\n",
       "    }\n",
       "\n",
       "    .dataframe thead th {\n",
       "        text-align: right;\n",
       "    }\n",
       "</style>\n",
       "<table border=\"1\" class=\"dataframe\">\n",
       "  <thead>\n",
       "    <tr style=\"text-align: right;\">\n",
       "      <th></th>\n",
       "      <th>CUST_ID</th>\n",
       "      <th>BALANCE</th>\n",
       "      <th>BALANCE_FREQUENCY</th>\n",
       "      <th>PURCHASES</th>\n",
       "      <th>ONEOFF_PURCHASES</th>\n",
       "      <th>INSTALLMENTS_PURCHASES</th>\n",
       "      <th>CASH_ADVANCE</th>\n",
       "      <th>PURCHASES_FREQUENCY</th>\n",
       "      <th>ONEOFF_PURCHASES_FREQUENCY</th>\n",
       "      <th>PURCHASES_INSTALLMENTS_FREQUENCY</th>\n",
       "      <th>CASH_ADVANCE_FREQUENCY</th>\n",
       "      <th>CASH_ADVANCE_TRX</th>\n",
       "      <th>PURCHASES_TRX</th>\n",
       "      <th>CREDIT_LIMIT</th>\n",
       "      <th>PAYMENTS</th>\n",
       "      <th>MINIMUM_PAYMENTS</th>\n",
       "      <th>PRC_FULL_PAYMENT</th>\n",
       "      <th>TENURE</th>\n",
       "    </tr>\n",
       "  </thead>\n",
       "  <tbody>\n",
       "    <tr>\n",
       "      <th>0</th>\n",
       "      <td>C10001</td>\n",
       "      <td>40.900749</td>\n",
       "      <td>0.818182</td>\n",
       "      <td>95.40</td>\n",
       "      <td>0.00</td>\n",
       "      <td>95.4</td>\n",
       "      <td>0.000000</td>\n",
       "      <td>0.166667</td>\n",
       "      <td>0.000000</td>\n",
       "      <td>0.083333</td>\n",
       "      <td>0.000000</td>\n",
       "      <td>0</td>\n",
       "      <td>2</td>\n",
       "      <td>1000.0</td>\n",
       "      <td>201.802084</td>\n",
       "      <td>139.509787</td>\n",
       "      <td>0.000000</td>\n",
       "      <td>12</td>\n",
       "    </tr>\n",
       "    <tr>\n",
       "      <th>1</th>\n",
       "      <td>C10002</td>\n",
       "      <td>3202.467416</td>\n",
       "      <td>0.909091</td>\n",
       "      <td>0.00</td>\n",
       "      <td>0.00</td>\n",
       "      <td>0.0</td>\n",
       "      <td>6442.945483</td>\n",
       "      <td>0.000000</td>\n",
       "      <td>0.000000</td>\n",
       "      <td>0.000000</td>\n",
       "      <td>0.250000</td>\n",
       "      <td>4</td>\n",
       "      <td>0</td>\n",
       "      <td>7000.0</td>\n",
       "      <td>4103.032597</td>\n",
       "      <td>1072.340217</td>\n",
       "      <td>0.222222</td>\n",
       "      <td>12</td>\n",
       "    </tr>\n",
       "    <tr>\n",
       "      <th>2</th>\n",
       "      <td>C10003</td>\n",
       "      <td>2495.148862</td>\n",
       "      <td>1.000000</td>\n",
       "      <td>773.17</td>\n",
       "      <td>773.17</td>\n",
       "      <td>0.0</td>\n",
       "      <td>0.000000</td>\n",
       "      <td>1.000000</td>\n",
       "      <td>1.000000</td>\n",
       "      <td>0.000000</td>\n",
       "      <td>0.000000</td>\n",
       "      <td>0</td>\n",
       "      <td>12</td>\n",
       "      <td>7500.0</td>\n",
       "      <td>622.066742</td>\n",
       "      <td>627.284787</td>\n",
       "      <td>0.000000</td>\n",
       "      <td>12</td>\n",
       "    </tr>\n",
       "    <tr>\n",
       "      <th>3</th>\n",
       "      <td>C10004</td>\n",
       "      <td>1666.670542</td>\n",
       "      <td>0.636364</td>\n",
       "      <td>1499.00</td>\n",
       "      <td>1499.00</td>\n",
       "      <td>0.0</td>\n",
       "      <td>205.788017</td>\n",
       "      <td>0.083333</td>\n",
       "      <td>0.083333</td>\n",
       "      <td>0.000000</td>\n",
       "      <td>0.083333</td>\n",
       "      <td>1</td>\n",
       "      <td>1</td>\n",
       "      <td>7500.0</td>\n",
       "      <td>0.000000</td>\n",
       "      <td>NaN</td>\n",
       "      <td>0.000000</td>\n",
       "      <td>12</td>\n",
       "    </tr>\n",
       "    <tr>\n",
       "      <th>4</th>\n",
       "      <td>C10005</td>\n",
       "      <td>817.714335</td>\n",
       "      <td>1.000000</td>\n",
       "      <td>16.00</td>\n",
       "      <td>16.00</td>\n",
       "      <td>0.0</td>\n",
       "      <td>0.000000</td>\n",
       "      <td>0.083333</td>\n",
       "      <td>0.083333</td>\n",
       "      <td>0.000000</td>\n",
       "      <td>0.000000</td>\n",
       "      <td>0</td>\n",
       "      <td>1</td>\n",
       "      <td>1200.0</td>\n",
       "      <td>678.334763</td>\n",
       "      <td>244.791237</td>\n",
       "      <td>0.000000</td>\n",
       "      <td>12</td>\n",
       "    </tr>\n",
       "  </tbody>\n",
       "</table>\n",
       "</div>"
      ],
      "text/plain": [
       "  CUST_ID      BALANCE  BALANCE_FREQUENCY  PURCHASES  ONEOFF_PURCHASES  \\\n",
       "0  C10001    40.900749           0.818182      95.40              0.00   \n",
       "1  C10002  3202.467416           0.909091       0.00              0.00   \n",
       "2  C10003  2495.148862           1.000000     773.17            773.17   \n",
       "3  C10004  1666.670542           0.636364    1499.00           1499.00   \n",
       "4  C10005   817.714335           1.000000      16.00             16.00   \n",
       "\n",
       "   INSTALLMENTS_PURCHASES  CASH_ADVANCE  PURCHASES_FREQUENCY  \\\n",
       "0                    95.4      0.000000             0.166667   \n",
       "1                     0.0   6442.945483             0.000000   \n",
       "2                     0.0      0.000000             1.000000   \n",
       "3                     0.0    205.788017             0.083333   \n",
       "4                     0.0      0.000000             0.083333   \n",
       "\n",
       "   ONEOFF_PURCHASES_FREQUENCY  PURCHASES_INSTALLMENTS_FREQUENCY  \\\n",
       "0                    0.000000                          0.083333   \n",
       "1                    0.000000                          0.000000   \n",
       "2                    1.000000                          0.000000   \n",
       "3                    0.083333                          0.000000   \n",
       "4                    0.083333                          0.000000   \n",
       "\n",
       "   CASH_ADVANCE_FREQUENCY  CASH_ADVANCE_TRX  PURCHASES_TRX  CREDIT_LIMIT  \\\n",
       "0                0.000000                 0              2        1000.0   \n",
       "1                0.250000                 4              0        7000.0   \n",
       "2                0.000000                 0             12        7500.0   \n",
       "3                0.083333                 1              1        7500.0   \n",
       "4                0.000000                 0              1        1200.0   \n",
       "\n",
       "      PAYMENTS  MINIMUM_PAYMENTS  PRC_FULL_PAYMENT  TENURE  \n",
       "0   201.802084        139.509787          0.000000      12  \n",
       "1  4103.032597       1072.340217          0.222222      12  \n",
       "2   622.066742        627.284787          0.000000      12  \n",
       "3     0.000000               NaN          0.000000      12  \n",
       "4   678.334763        244.791237          0.000000      12  "
      ]
     },
     "execution_count": 2,
     "metadata": {},
     "output_type": "execute_result"
    }
   ],
   "source": [
    "path = r\"C:\\Users\\agust\\OneDrive\\Documentos\\VScode\\Bank\\Bank_data.csv\"\n",
    "file_csv = pd.read_csv(path, sep=\",\")\n",
    "df = pd.DataFrame(file_csv)\n",
    "df.head()"
   ]
  },
  {
   "cell_type": "markdown",
   "id": "d62a6f77",
   "metadata": {},
   "source": [
    "# EDA"
   ]
  },
  {
   "cell_type": "markdown",
   "id": "7a5d84d2",
   "metadata": {},
   "source": [
    "Exploratory data analyisis"
   ]
  },
  {
   "cell_type": "code",
   "execution_count": null,
   "id": "6b8b40e4",
   "metadata": {},
   "outputs": [],
   "source": [
    "\n",
    "# Analyzed the general information of the DataFrame.\n",
    "df.info()"
   ]
  },
  {
   "cell_type": "code",
   "execution_count": null,
   "id": "a460cfaf",
   "metadata": {},
   "outputs": [],
   "source": [
    "\n",
    "# Checked how many missing (null) values there are in each variable.\n",
    "df.isnull().sum()"
   ]
  },
  {
   "cell_type": "code",
   "execution_count": null,
   "id": "b94d3c07",
   "metadata": {},
   "outputs": [],
   "source": [
    "# Created a copy of the DataFrame and replaced the missing values with the mean value of each corresponding variable.\n",
    "df2 = df.copy()\n",
    "df2['CREDIT_LIMIT'].fillna(df2['CREDIT_LIMIT'].mean(), inplace = True)\n",
    "df2['MINIMUM_PAYMENTS'].fillna(df2['MINIMUM_PAYMENTS'].mean(), inplace = True)"
   ]
  },
  {
   "cell_type": "code",
   "execution_count": null,
   "id": "5b099e96",
   "metadata": {},
   "outputs": [],
   "source": [
    "\n",
    "# Verified that there are no longer any missing values\n",
    "df2.isnull().sum()"
   ]
  },
  {
   "cell_type": "code",
   "execution_count": null,
   "id": "8dcef001",
   "metadata": {},
   "outputs": [],
   "source": [
    "\n",
    "# Generated the descriptive statistics of the dataset.\n",
    "df2.describe().T"
   ]
  },
  {
   "cell_type": "markdown",
   "id": "16cf62cb",
   "metadata": {},
   "source": [
    "## Analysis of averages "
   ]
  },
  {
   "cell_type": "markdown",
   "id": "6ac03081",
   "metadata": {},
   "source": [
    "As conclusions, we can observe the following:\n",
    "\n",
    "The average account balance is $1,564, suggesting that customers maintain a significant balance in their accounts on average.\n",
    "\n",
    "The average balance‐holding frequency is 0.88, indicating that most customers regularly carry a balance.\n",
    "\n",
    "The average total purchase amount is $1,003, showing that customers routinely make purchases with their credit cards.\n",
    "\n",
    "The average single‐purchase amount is $592, suggesting that customers tend to make smaller individual purchases rather than large, one‐off transactions.\n",
    "\n",
    "The average number of purchase transactions is approximately 14, highlighting that customers engage in multiple purchases.\n",
    "\n",
    "The average credit limit is $4,494, representing the maximum total amount customers can charge to their cards.\n",
    "\n",
    "The average proportion of full credit‐bill payments is about 0.15, indicating that most customers do not pay off their entire balance each month.\n",
    "\n",
    "The average relationship duration with the bank is roughly 11.5 years, reflecting a long‐term customer–bank relationship.\n",
    "\n",
    "Additionally, we do not observe any extreme outliers in these summary statistics. However, it would be prudent to perform a deeper outlier analysis to identify any values that might significantly impact the customer segmentation."
   ]
  },
  {
   "cell_type": "markdown",
   "id": "c121abcf",
   "metadata": {},
   "source": [
    "## Out outliers and duplicated values detection and treatment."
   ]
  },
  {
   "cell_type": "code",
   "execution_count": null,
   "id": "e9a2cb34",
   "metadata": {},
   "outputs": [],
   "source": [
    "# Search for duplicate values.\n",
    "print(\"There are {} duplicated values\".format(df2.duplicated().sum()))"
   ]
  },
  {
   "cell_type": "code",
   "execution_count": null,
   "id": "54f41d63",
   "metadata": {},
   "outputs": [],
   "source": [
    "# Create a new copy of the DataFrame and dropped columns unnecessary for the analysis.\n",
    "df3 = df2.copy()\n",
    "df3 = df3.drop('CUST_ID', axis=1)\n",
    "df3.head()"
   ]
  },
  {
   "cell_type": "code",
   "execution_count": null,
   "id": "3d8e87cf",
   "metadata": {},
   "outputs": [],
   "source": [
    "# Generate subplots for each variable.\n",
    "fig, axs = plt.subplots(nrows=6, ncols=3, figsize=(15, 20))\n",
    "axs = axs.flatten()\n",
    "\n",
    "# Generate a boxplot for each variable.\n",
    "for i, var in enumerate(df3.columns):  # We iterated directly over the DataFrame’s columns.\n",
    "    axs[i].boxplot(df3[var].dropna(), vert=False)\n",
    "    axs[i].set_title(var)\n",
    "\n",
    "plt.tight_layout()\n",
    "plt.show()"
   ]
  },
  {
   "cell_type": "code",
   "execution_count": null,
   "id": "2f5b43c3",
   "metadata": {},
   "outputs": [],
   "source": [
    "# Detection of outlier values using the interquartile range.\n",
    "\n",
    "stats = df3.describe()\n",
    "\n",
    "for column in df3.select_dtypes(include = \"number\"):\n",
    "    Q1 = stats[column]['25%']\n",
    "    Q3 = stats[column]['75%']\n",
    "    IQR = Q3 - Q1\n",
    "    lower_limit = Q1 - 1.5 * IQR\n",
    "    upper_limit = Q3 + 1.5 * IQR\n",
    "    \n",
    "    outliers = df3.loc[(df3[column] < lower_limit) | (df3[column] > upper_limit)]\n",
    "    \n",
    "    print(f\"Column: {column}\")\n",
    "    print(outliers)\n",
    "    print(\"------------------------\")"
   ]
  },
  {
   "cell_type": "markdown",
   "id": "1b579e56",
   "metadata": {},
   "source": [
    "# Analysis of the Correlation Matrix."
   ]
  },
  {
   "cell_type": "code",
   "execution_count": null,
   "id": "63a61a09",
   "metadata": {},
   "outputs": [],
   "source": [
    "\n",
    "correlation_matrix. = df3.corr()\n",
    "\n",
    "plt.figure(figsize=(12, 10))\n",
    "sns.heatmap(correlation_matrix, annot=True, cmap='coolwarm', fmt=\".2f\")\n",
    "plt.title('Correlation Matrix.')\n",
    "plt.show()"
   ]
  },
  {
   "cell_type": "markdown",
   "id": "ec2fff2e",
   "metadata": {},
   "source": [
    "From the correlation matrix above, we can observe the following:\n",
    "\n",
    "The variable 'PURCHASES' is highly correlated with the variables 'PAYMENTS', 'PURCHASES_TRX', 'ONEOFF_PURCHASES_FREQUENCY', 'INSTALLMENTS_PURCHASES', and 'ONEOFF_PURCHASES'.\n",
    "\n",
    "The variable 'CASH_ADVANCE' is correlated with the variables 'PAYMENTS', 'CASH_ADVANCE_TRX', 'CASH_ADVANCE_FREQUENCY', and 'BALANCE'."
   ]
  },
  {
   "cell_type": "markdown",
   "id": "bde1232e",
   "metadata": {},
   "source": [
    "# STANDARIZATION OF DATA"
   ]
  },
  {
   "cell_type": "code",
   "execution_count": null,
   "id": "d35aaaf2",
   "metadata": {},
   "outputs": [],
   "source": [
    "from sklearn.preprocessing import StandardScaler\n",
    "\n",
    "scaler = StandardScaler()\n",
    "\n",
    "df4 = scaler.fit_transform(df3)\n",
    "\n",
    "df4 = pd.DataFrame(df4, columns=df3.columns)\n",
    "\n",
    "df4.head()"
   ]
  },
  {
   "cell_type": "markdown",
   "id": "98c46605",
   "metadata": {},
   "source": [
    "# APPLICATION OF THE K-MEANS ALGORITHM"
   ]
  },
  {
   "cell_type": "markdown",
   "id": "7e7da07e",
   "metadata": {},
   "source": [
    "EVALUATION OF THE OPTIMAL NUMBER OF CLUSTERS USING THE ELBOW METHOD IN K-MEANS"
   ]
  },
  {
   "cell_type": "code",
   "execution_count": null,
   "id": "cafff43b",
   "metadata": {},
   "outputs": [],
   "source": [
    "from sklearn.cluster import KMeans\n",
    "\n",
    "wcss = []\n",
    "\n",
    "for i in range(1, 11):\n",
    "    kmeans = KMeans(n_clusters = i, init = 'k-means++', max_iter = 300, n_init = 10, random_state=0)\n",
    "    kmeans.fit(df4)\n",
    "    wcss.append(kmeans.inertia_)\n",
    "    \n",
    "plt.plot(range(1,11), wcss)\n",
    "plt.title('The elbow method')\n",
    "plt.xlabel('Number of clusters')\n",
    "plt.ylabel('WCSS')\n",
    "plt.show()"
   ]
  },
  {
   "cell_type": "markdown",
   "id": "a3157293",
   "metadata": {},
   "source": [
    "\n",
    "At this point, we can notice an elbow in the inertia graph when the number of clusters is 4.Therefore, the optimal number of clusters appears to be 4."
   ]
  },
  {
   "cell_type": "code",
   "execution_count": null,
   "id": "cf454b1e",
   "metadata": {},
   "outputs": [],
   "source": [
    "kmeans = KMeans(n_clusters=4, n_init=10)\n",
    "kmeans.fit(df4)\n",
    "labels = kmeans.labels_\n",
    "centers = kmeans.cluster_centers_"
   ]
  },
  {
   "cell_type": "markdown",
   "id": "4a346b56",
   "metadata": {},
   "source": [
    "## VISUALIZATION OF THE COORDINATES OF THE CENTROIDS OF THE CLUSTERS IN A DATAFRAME"
   ]
  },
  {
   "cell_type": "markdown",
   "id": "59dde17a",
   "metadata": {},
   "source": [
    "We create a DataFrame 'cluster_centers' to store the coordinates of each centroid. \n",
    "\n",
    "Each column of 'cluster_centers' represents a feature, while each feature corresponds to a dimension and to a coordinate point in multi-dimensional space."
   ]
  },
  {
   "cell_type": "code",
   "execution_count": null,
   "id": "72c252d6",
   "metadata": {},
   "outputs": [],
   "source": [
    "centroids = pd.DataFrame(data=kmeans.cluster_centers_, columns=[df3.columns])\n",
    "centroids"
   ]
  },
  {
   "cell_type": "markdown",
   "id": "6e341079",
   "metadata": {},
   "source": [
    "For better understanding, we will perform a reverse conversion. This will allow us to visualize the location of the centroids of each cluster and how k-means has grouped the data."
   ]
  },
  {
   "cell_type": "code",
   "execution_count": null,
   "id": "e7d5705f",
   "metadata": {},
   "outputs": [],
   "source": [
    "# Convert the normalized centroids back to their original scale.\n",
    "centroids_df = scaler.inverse_transform(centroids)\n",
    "# Create a DataFrame 'cluster_centers_df' to store the coordinates of the centroids in their original scale, where each column represents a feature.\n",
    "centroids_df = pd.DataFrame(data=centroids_df, columns=[df3.columns])\n",
    "centroids_df"
   ]
  },
  {
   "cell_type": "markdown",
   "id": "d943aa63",
   "metadata": {},
   "source": [
    "## Segments insights"
   ]
  },
  {
   "cell_type": "markdown",
   "id": "ed1b6395",
   "metadata": {},
   "source": [
    "\n",
    "Based on the average values of each variable for each customer group, we can derive insights about each segment:\n",
    "\n",
    "**Group 0:**\n",
    "\n",
    "💳 Moderate Balance and Credit Limit Customers in this group maintain an average balance and a relatively moderate credit limit.\n",
    "\n",
    "🛍️ Frequent and Diverse Purchasing Behavior They show moderate average values for both one-off purchases and installment purchases. This indicates regular purchasing activity across different types—both single transactions and installment-based spending.\n",
    "\n",
    "💸 Low Cash Advance Usage The average cash advance value is low, suggesting these customers rarely rely on cash advances.\n",
    "\n",
    "📈 Reasonable Payment Habits They exhibit a relatively high average percentage of full payments, pointing to strong financial management and responsible credit usage.\n",
    "\n",
    "**Group 1:**\n",
    "\n",
    "💳 High Balance and Credit Limit This group maintains a relatively high average balance and credit limit, indicating greater financial capacity.\n",
    "\n",
    "🛍️ Very High Spending They show very high average values for both one-off and installment purchases, reflecting a high level of consumer spending.\n",
    "\n",
    "💸 Low Cash Advance Usage The average cash advance amount is low, suggesting minimal reliance on cash advances.\n",
    "\n",
    "📈 Reasonable Payment Habits They maintain a relatively high average percentage of full payments, indicating responsible payment behavior.\n",
    "\n",
    "**Group 2:**\n",
    "\n",
    "💳 Low Balance and Credit Limit Customers in this group have relatively low average balances and credit limits, indicating limited financial resources.\n",
    "\n",
    "🛍️ Low Purchasing Activity Both one-off and installment purchases are low on average, suggesting minimal spending behavior.\n",
    "\n",
    "💸 Minimal Cash Advance Usage The average cash advance amount is low, showing little reliance on this form of credit.\n",
    "\n",
    "📉 Weak Payment Habits They have a relatively low average percentage of full payments, which may reflect financial challenges or less disciplined payment behavior.\n",
    "\n",
    "**Group 3:**\n",
    "\n",
    "💳 High Balance and Credit Limit This group holds relatively high average balances and credit limits, indicating strong financial capacity.\n",
    "\n",
    "🛍️ Moderate Purchasing Activity Average values for both one-off and installment purchases are moderate, suggesting balanced spending habits.\n",
    "\n",
    "💸 High Cash Advance Usage They show a high average value for cash advances, implying greater dependence on short-term credit or liquidity needs.\n",
    "\n",
    "📉 Weak Payment Habits The average percentage of full payments is relatively low, which may point to financial strain or less responsible credit management."
   ]
  },
  {
   "cell_type": "markdown",
   "id": "30de2400",
   "metadata": {},
   "source": [
    "## Predict"
   ]
  },
  {
   "cell_type": "code",
   "execution_count": null,
   "id": "949aa535",
   "metadata": {},
   "outputs": [],
   "source": [
    "'''\n",
    "This code uses the previously trained KMeans model to predict which group each customer belongs to within the dataset.\n",
    "Using the predict method, the model assigns each customer a label indicating the segment or cluster they belong to based on their features.\n",
    "\n",
    "The group labels assigned to each customer are stored in the variable y_kmeans, allowing us to identify the category each customer falls into according to the KMeans model.\n",
    "'''\n",
    "y_kmeans = kmeans.predict(df4)"
   ]
  },
  {
   "cell_type": "code",
   "execution_count": null,
   "id": "2f8d7292",
   "metadata": {},
   "outputs": [],
   "source": [
    "\n",
    "y_kmeans"
   ]
  },
  {
   "cell_type": "code",
   "execution_count": null,
   "id": "b2340777",
   "metadata": {},
   "outputs": [],
   "source": [
    "'''\n",
    "In this step, we concatenate the cluster labels (y_kmeans) predicted by the KMeans model to the original DataFrame df3.\n",
    "A new DataFrame called df5 is created, containing all the original customer features along with an additional column, cluster, which indicates the segment or cluster each customer belongs to based on the KMeans prediction.\n",
    "\n",
    "This allows us to gain a comprehensive view of how customers are grouped into different segments according to their characteristics.\n",
    "'''\n",
    "df5 = pd.concat([df3, pd.DataFrame({'cluster':y_kmeans})], axis=1)"
   ]
  },
  {
   "cell_type": "code",
   "execution_count": null,
   "id": "655620a6",
   "metadata": {},
   "outputs": [],
   "source": [
    "\n",
    "df5.head()"
   ]
  },
  {
   "cell_type": "code",
   "execution_count": null,
   "id": "7eb3a750",
   "metadata": {},
   "outputs": [],
   "source": [
    "'''\n",
    "In this step, we examine the distribution of cluster labels (cluster) generated by the KMeans model in the DataFrame df5.\n",
    "Using the value_counts() method, we count how many customers belong to each cluster and display the number of customers in each one.\n",
    "\n",
    "This provides us with insights into how customers are distributed across the various segments or clusters identified by the KMeans model.\n",
    "'''\n",
    "df5.cluster.value_counts()"
   ]
  },
  {
   "cell_type": "code",
   "execution_count": null,
   "id": "00f98c48",
   "metadata": {},
   "outputs": [],
   "source": [
    "\n",
    "# Calculate the number of columns needed for the subplots.\n",
    "num_clusters = 4\n",
    "num_features = len(df3.columns)\n",
    "num_cols = min(num_clusters, num_features)\n",
    "\n",
    "# A histogram is created for each cluster to enhance visualization.\n",
    "for feature in df3.columns:\n",
    "    plt.figure(figsize=(num_cols * 8, 5))\n",
    "    for cluster_label in range(num_clusters):\n",
    "        plt.subplot(1, num_cols, cluster_label + 1)\n",
    "        cluster_data = df5[df5['cluster'] == cluster_label]\n",
    "        cluster_data[feature].hist(bins=20, alpha=0.7)\n",
    "        plt.title('Cluster {}: {}'.format(cluster_label, feature))\n",
    "        plt.xlabel(feature)\n",
    "        plt.ylabel('Frequency')\n",
    "    plt.tight_layout()\n",
    "    plt.show()"
   ]
  },
  {
   "cell_type": "markdown",
   "id": "4375934b",
   "metadata": {},
   "source": [
    "# PCA (Dimensionality Reduction)"
   ]
  },
  {
   "cell_type": "code",
   "execution_count": null,
   "id": "077ccd4c",
   "metadata": {},
   "outputs": [],
   "source": [
    "from sklearn.decomposition import PCA\n",
    "\n",
    "# Calculate the explained variance for each principal component.\n",
    "pca = PCA()\n",
    "pca.fit(df4)\n",
    "explained_variance_ratio = pca.explained_variance_ratio_\n",
    "\n",
    "# Plot the cumulative explained variance.\n",
    "plt.plot(range(1, len(explained_variance_ratio) + 1), explained_variance_ratio.cumsum(), marker='o', linestyle='-')\n",
    "plt.xlabel('Number of principal components.')\n",
    "plt.ylabel('Cumulative explained variance.')\n",
    "plt.title('Cumulative Explained Variance Plot.')\n",
    "plt.show()"
   ]
  },
  {
   "cell_type": "code",
   "execution_count": null,
   "id": "3e339f03",
   "metadata": {},
   "outputs": [],
   "source": [
    "\n",
    "# Print the output to observe how much of the total information is contributed by each principal component.\n",
    "\n",
    "print(pca.explained_variance_ratio_.round(2)[:10])"
   ]
  },
  {
   "cell_type": "code",
   "execution_count": null,
   "id": "099b1709",
   "metadata": {},
   "outputs": [],
   "source": [
    "\n",
    "# PCA is applied with 2 principal components to reduce the dimensionality of the dataset while preserving as much variance as possible.\n",
    "pca = PCA(n_components=2)\n",
    "\n",
    "pca_df = pca.fit_transform(df4)"
   ]
  },
  {
   "cell_type": "code",
   "execution_count": null,
   "id": "34661de9",
   "metadata": {},
   "outputs": [],
   "source": [
    "\n",
    "df_components = pd.DataFrame(data=pca_df, columns=['pc_1','pc_2'])\n",
    "df_components.head()"
   ]
  },
  {
   "cell_type": "code",
   "execution_count": null,
   "id": "b7029d14",
   "metadata": {},
   "outputs": [],
   "source": [
    "df_final = pd.concat([df_components, pd.DataFrame({'cluster':labels})], axis=1)\n",
    "df_final.head()"
   ]
  },
  {
   "cell_type": "markdown",
   "id": "f5b18101",
   "metadata": {},
   "source": [
    "\n",
    "## Scatter Plot of Clusters in Principal Component Space"
   ]
  },
  {
   "cell_type": "markdown",
   "id": "dc46af60",
   "metadata": {},
   "source": [
    "This visualization displays how the identified clusters are distributed across the space defined by the principal components.\n",
    "\n",
    "It helps reveal separation, overlap, and structure among the clusters in reduced dimensions."
   ]
  },
  {
   "cell_type": "code",
   "execution_count": null,
   "id": "bddf6606",
   "metadata": {},
   "outputs": [],
   "source": [
    "\n",
    "plt.figure(figsize=(10,10))\n",
    "ax = sns.scatterplot(x='pc_1',y='pc_2', hue='cluster', data=df6, palette='Set1')"
   ]
  },
  {
   "cell_type": "markdown",
   "id": "a6537282",
   "metadata": {},
   "source": [
    "# Conclusion"
   ]
  },
  {
   "cell_type": "markdown",
   "id": "fde2bcda",
   "metadata": {},
   "source": [
    "\n",
    "By applying machine learning techniques, it is possible to achieve effective categorization of banking customers, enabling a deeper understanding of their behaviors and needs. This segmentation provides a clearer view of the customer base, making it easier to personalize marketing strategies, identify opportunities for product and service improvement, and support more informed business decision-making. In summary, customer segmentation is a powerful tool for any organization in the modern era, allowing for more agile adaptation to changing market demands and delivering a more satisfying experience for customers."
   ]
  }
 ],
 "metadata": {
  "kernelspec": {
   "display_name": "Python 3",
   "language": "python",
   "name": "python3"
  },
  "language_info": {
   "codemirror_mode": {
    "name": "ipython",
    "version": 3
   },
   "file_extension": ".py",
   "mimetype": "text/x-python",
   "name": "python",
   "nbconvert_exporter": "python",
   "pygments_lexer": "ipython3",
   "version": "3.11.9"
  }
 },
 "nbformat": 4,
 "nbformat_minor": 5
}
